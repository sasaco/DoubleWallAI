{
 "cells": [
  {
   "cell_type": "markdown",
   "metadata": {},
   "source": [
    "# 二重矢板の予測（回帰モデル）"
   ]
  },
  {
   "cell_type": "code",
   "execution_count": null,
   "metadata": {},
   "outputs": [],
   "source": [
    "# ライブラリのインポート\n",
    "import numpy as np\n",
    "import pandas as pd\n",
    "import matplotlib.pyplot as plt\n",
    "import seaborn as sns\n",
    "\n",
    "from sklearn import preprocessing\n",
    "import japanize_matplotlib\n",
    "# LightGBM\n",
    "import lightgbm as lgb\n",
    "import optuna\n",
    "from sklearn.preprocessing import StandardScaler, MinMaxScaler, LabelEncoder, OneHotEncoder"
   ]
  },
  {
   "cell_type": "markdown",
   "metadata": {},
   "source": [
    "## 1.CSVファイルの読み込み"
   ]
  },
  {
   "cell_type": "code",
   "execution_count": null,
   "metadata": {},
   "outputs": [],
   "source": [
    "#データの読み込み\n",
    "data_folder = input(\"データファイルのあるフォルダまでのパス\")\n",
    "data_folder = data_folder.rstrip()\n",
    "data_folder = data_folder.replace(\"\\\\\", \"/\") + \"/\"\n",
    "    \n",
    "file = data_folder + \"input20001_30000_input+error.csv\"\n",
    "# file1 = data_folder + \"train_data1.csv\"\n",
    "# file2 = data_folder + \"train_labels.csv\"\n",
    "\n",
    "df = pd.read_csv(file,encoding=\"shift-jis\")\n",
    "\n",
    "\n",
    "# df1 = pd.read_csv(file1,encoding=\"cp932\")\n",
    "# df2 = pd.read_csv(file2,encoding=\"cp932\")\n",
    "\n",
    "# df = pd.concat([df1,df2],axis = 1)"
   ]
  },
  {
   "cell_type": "code",
   "execution_count": null,
   "metadata": {},
   "outputs": [],
   "source": [
    "pd.set_option('display.max_columns',50)\n",
    "df"
   ]
  },
  {
   "cell_type": "markdown",
   "metadata": {},
   "source": [
    "## ラベルエンコーディング"
   ]
  },
  {
   "cell_type": "code",
   "execution_count": null,
   "metadata": {},
   "outputs": [],
   "source": [
    "df.dtypes"
   ]
  },
  {
   "cell_type": "code",
   "execution_count": null,
   "metadata": {},
   "outputs": [],
   "source": [
    "def label_en(la,df):\n",
    "    label = df[la]\n",
    "    le_embarked = LabelEncoder()\n",
    "    le_embarked.fit(label)\n",
    "    df[la] =  le_embarked.transform(label)\n",
    "    df[la] = df[la].astype(\"category\")\n",
    "    return\n",
    "\n",
    "#タイプ3:0，タイプ4:1，タイプ5:2\n",
    "label_en('在来地盤区分',df)\n",
    "label_en('中詰め区分',df)\n",
    "label_en('矢板材料',df)\n",
    "label_en('矢板型',df)\n",
    "label_en('腹起し番号',df)\n",
    "label_en('引張材材料番号',df)\n",
    "label_en('腹起し材質',df)\n",
    "# label_en('せん断変形破壊_label',df)\n",
    "# label_en('滑動、支持力_label',df)\n",
    "# label_en('根入れ部の安定_label',df)\n",
    "# label_en('遮水効果_label',df)\n",
    "# label_en('矢板の耐力照査_label',df)\n",
    "# label_en('タイロッドの耐力照査_label',df)\n",
    "# label_en('腹起しの耐力照査_label',df)"
   ]
  },
  {
   "cell_type": "code",
   "execution_count": null,
   "metadata": {},
   "outputs": [],
   "source": [
    "df.dtypes"
   ]
  },
  {
   "cell_type": "code",
   "execution_count": null,
   "metadata": {},
   "outputs": [],
   "source": [
    "pd.set_option('display.max_columns',50)\n",
    "df"
   ]
  },
  {
   "cell_type": "code",
   "execution_count": null,
   "metadata": {},
   "outputs": [],
   "source": [
    "pd.set_option('display.max_columns',50)\n",
    "df.head()"
   ]
  },
  {
   "cell_type": "code",
   "execution_count": null,
   "metadata": {},
   "outputs": [],
   "source": [
    "pd.set_option('display.max_columns',40)\n",
    "df.head()"
   ]
  },
  {
   "cell_type": "code",
   "execution_count": null,
   "metadata": {},
   "outputs": [],
   "source": [
    "safety_label =  [\"せん断変形破壊\",\"滑動、支持力\",\"根入れ部の安定\",\"遮水効果\",\"矢板の耐力照査\",\"タイロッドの耐力照査\",\"腹起しの耐力照査\",\"根入れ深さ\"]\n",
    "# safety_label =  [\"せん断変形破壊_label\",\"滑動、支持力_label\",\"根入れ部の安定_label\",\"遮水効果_label\",\"矢板の耐力照査_label\",\"タイロッドの耐力照査_label\",\"腹起しの耐力照査_label\",\"根入れ深さ\"]\n",
    "df = df.drop([i for i in safety_label],axis=1)"
   ]
  },
  {
   "cell_type": "code",
   "execution_count": null,
   "metadata": {},
   "outputs": [],
   "source": [
    "df"
   ]
  },
  {
   "cell_type": "markdown",
   "metadata": {},
   "source": [
    "## 相関を調べる"
   ]
  },
  {
   "cell_type": "code",
   "execution_count": null,
   "metadata": {},
   "outputs": [],
   "source": [
    "# 目的変数の設定\n",
    "pur = \"矢板の全長\""
   ]
  },
  {
   "cell_type": "code",
   "execution_count": null,
   "metadata": {},
   "outputs": [],
   "source": [
    "# sns.set(rc = {'figure.figsize':(15,8)})\n",
    "sns.set(font='Yu Gothic')\n",
    "plt.figure(figsize=(20,20),dpi=200)\n",
    "p=sns.heatmap(df.corr(),square=True, vmax=1, vmin=-1, center=0,cmap='coolwarm')"
   ]
  },
  {
   "cell_type": "code",
   "execution_count": null,
   "metadata": {},
   "outputs": [],
   "source": [
    "sns.set(font='Yu Gothic',rc = {'figure.figsize':(20,20)})\n",
    "sns.heatmap(df.corr()[[pur]].sort_values(by=pur, ascending=False)[1:],cmap='coolwarm', annot=True)"
   ]
  },
  {
   "cell_type": "code",
   "execution_count": null,
   "metadata": {},
   "outputs": [],
   "source": [
    "df"
   ]
  },
  {
   "cell_type": "code",
   "execution_count": null,
   "metadata": {},
   "outputs": [],
   "source": [
    "#目的変数の分布\n",
    "def plot_histgram(x, title=None, x_label=None):\n",
    "    fig,ax = plt.subplots()\n",
    "    sns.set(font='Yu Gothic',rc = {'figure.figsize':(12,6)})\n",
    "\n",
    "    plt.figure(figsize=(8,8),dpi=500)\n",
    "    sns.histplot(x, kde = False, ax=ax)\n",
    "    fig.suptitle(title)\n",
    "    ax.set_xlabel(x_label)\n",
    "\n",
    "    fig.show()\n",
    "\n",
    "plot_histgram(df[pur], title=\"目的変数の分布\", x_label=pur)"
   ]
  },
  {
   "cell_type": "code",
   "execution_count": null,
   "metadata": {},
   "outputs": [],
   "source": [
    "df[pur].describe()"
   ]
  },
  {
   "cell_type": "code",
   "execution_count": null,
   "metadata": {},
   "outputs": [],
   "source": [
    "#目的変数と各特徴量の関係\n",
    "def plt_scatters(X, y, title = None,nrows=2,ncols=2):\n",
    "    # sns.set(rc = {'figure.figsize':(15,8)})\n",
    "    sns.set(font='Yu Gothic',rc = {'figure.figsize':(30,30)})\n",
    "\n",
    "    cols = X.columns\n",
    "    plt.figure(figsize=(4,4),dpi=200)\n",
    "    fig, axes = plt.subplots(nrows=nrows, ncols=ncols)\n",
    "\n",
    "    for ax,c in zip(axes.ravel(),cols):\n",
    "        sns.scatterplot(X[c], y , ci=None, ax=ax)\n",
    "        ax.set(ylabel = y.name)\n",
    "    \n",
    "\n",
    "    fig.suptitle(title)\n",
    "    fig.show()\n",
    "\n",
    "xx = df.drop([pur], axis = 1)\n",
    "plt_scatters(\n",
    "    df[xx.columns],\n",
    "    df[pur],\n",
    "    title = \"目的変数と各特徴量との関係\",\n",
    "    nrows = 7,\n",
    "    ncols = 5\n",
    ")"
   ]
  },
  {
   "cell_type": "code",
   "execution_count": null,
   "metadata": {},
   "outputs": [],
   "source": [
    "plt_scatters(\n",
    "    df[['左右壁体高さ','堤外側水位_常時']],\n",
    "    df['中詰土天端高さ'],\n",
    "    title = \"目的変数と各特徴量との関係\",\n",
    "    nrows = 2,\n",
    "    ncols = 1\n",
    ")"
   ]
  },
  {
   "cell_type": "markdown",
   "metadata": {},
   "source": [
    "## モデルの作成"
   ]
  },
  {
   "cell_type": "markdown",
   "metadata": {},
   "source": [
    "### データの分割"
   ]
  },
  {
   "cell_type": "code",
   "execution_count": null,
   "metadata": {},
   "outputs": [],
   "source": [
    "# データの分割\n",
    "# 全体の20%をテストデータに設定\n",
    "\n",
    "from sklearn.model_selection import train_test_split\n",
    "train, test = train_test_split(df, test_size=0.3, random_state = 3)"
   ]
  },
  {
   "cell_type": "code",
   "execution_count": null,
   "metadata": {},
   "outputs": [],
   "source": [
    "# Stratified K Foldでデータを分割\n",
    "from imblearn.under_sampling import RandomUnderSampler\n",
    "# 目的変数と説明変数に分ける\n",
    "x_train = train.drop([pur], axis = 1) # 予測対象以外を説明変数に設定\n",
    "y_train = train.loc[:,pur]"
   ]
  },
  {
   "cell_type": "markdown",
   "metadata": {},
   "source": [
    "### 交差検証"
   ]
  },
  {
   "cell_type": "code",
   "execution_count": null,
   "metadata": {},
   "outputs": [],
   "source": [
    "# Stratified K Foldでデータを分割\n",
    "from imblearn.under_sampling import RandomUnderSampler\n",
    "# 目的変数と説明変数に分ける\n",
    "X = train.drop([pur], axis = 1) # 予測対象以外を説明変数に設定\n",
    "y = train.loc[:,pur]\n",
    "\n",
    "# データの分割\n",
    "# ライブラリのインポート\n",
    "from sklearn.model_selection import KFold\n",
    "\n",
    "fold = KFold(n_splits=5, shuffle=True, random_state=3) # データを5分割する\n",
    "kf = fold.split(X, y)\n",
    "kf_cv = list(kf)"
   ]
  },
  {
   "cell_type": "code",
   "execution_count": null,
   "metadata": {},
   "outputs": [],
   "source": [
    "for i, (idx_train, idx_val) in enumerate(kf_cv):\n",
    "    print(f'fold {i}')\n",
    "    print(idx_train)\n",
    "    print(idx_val)\n",
    "    print('=='*30)\n",
    "    print(len(idx_train), len(idx_val)) #5分割しているのでデータ数が1:4になるか確認する\n",
    "    print('=='*30)"
   ]
  },
  {
   "cell_type": "markdown",
   "metadata": {},
   "source": [
    "## LightGBM"
   ]
  },
  {
   "cell_type": "code",
   "execution_count": null,
   "metadata": {},
   "outputs": [],
   "source": [
    "# from xgboost.callback import early_stop\n",
    "from sklearn import metrics # 正解率を出すためのライブラリ\n",
    "from sklearn.model_selection import GridSearchCV,RandomizedSearchCV,StratifiedKFold,cross_val_score"
   ]
  },
  {
   "cell_type": "markdown",
   "metadata": {},
   "source": [
    "### ハイパーパラメータチューニング"
   ]
  },
  {
   "cell_type": "code",
   "execution_count": null,
   "metadata": {},
   "outputs": [],
   "source": [
    "params_base = {\n",
    "    \"boosting_type\": \"gbdt\",\n",
    "    'objective': 'regression_l1', \n",
    "    'metric': 'mean_absolute_error',\n",
    "    'n_estimators': 1000,\n",
    "    \"subsample\":0.7,\n",
    "    'subsample_freq': 1,\n",
    "    \"seed\": 123,\n",
    "    \"importance_type\":\"gain\"\n",
    "}"
   ]
  },
  {
   "cell_type": "code",
   "execution_count": null,
   "metadata": {},
   "outputs": [],
   "source": [
    "def objective(trial, df_X, df_y):\n",
    "\n",
    "    params_tuning = {\n",
    "        \"learning_rate\": trial.suggest_float(\"learning_rate\", 0.001, 0.1),\n",
    "        \"num_leaves\": trial.suggest_int(\"num_leaves\", 8, 256),\n",
    "        \"min_data_in_leaf\": trial.suggest_int(\"min_data_in_leaf\", 5, 200),\n",
    "        \"min_sum_hessian_in_leaf\": trial.suggest_float(\"min_sum_hessian_in_leaf\", 5, 200),\n",
    "        \"feature_fraction\": trial.suggest_float(\"feature_fraction\", 0.5, 1.0),\n",
    "        \"bagging_fraction\": trial.suggest_float(\"bagging_fraction\", 0.5, 1.0),\n",
    "        \"lambda_l1\": trial.suggest_float(\"lambda_l1\", 1e-2, 1e2, log=True),\n",
    "        \"lambda_l2\": trial.suggest_float(\"lambda_l2\", 1e-2, 1e2, log=True)\n",
    "    }\n",
    "\n",
    "    params_tuning.update(params_base)\n",
    "\n",
    "\n",
    "    model = lgb.LGBMRegressor(verbosity=2,\n",
    "                             n_jobs=-1,\n",
    "                             random_state=42,\n",
    "                             **params_tuning)\n",
    "\n",
    "    # 交差検証\n",
    "    scores = cross_val_score(\n",
    "        model, df_X, df_y, scoring='AUC', cv=5)\n",
    "    rmse = np.sqrt(-scores)\n",
    "    score_mean = np.mean(rmse)\n",
    "\n",
    "    return score_mean\n"
   ]
  },
  {
   "cell_type": "code",
   "execution_count": null,
   "metadata": {},
   "outputs": [],
   "source": [
    "#optuna.create_study()でoptuna.studyインスタンスを作る。\n",
    "study = optuna.create_study()\n",
    "\n",
    "#studyインスタンスのoptimize()に作った関数を渡して最適化する。\n",
    "study.optimize(lambda trial: objective(trial,X,y),n_trials=200, timeout=300)\n"
   ]
  },
  {
   "cell_type": "code",
   "execution_count": null,
   "metadata": {},
   "outputs": [],
   "source": [
    "params_best = study.best_params\n",
    "params_best.update(params_base)\n",
    "display(params_best)"
   ]
  },
  {
   "cell_type": "code",
   "execution_count": null,
   "metadata": {},
   "outputs": [],
   "source": [
    "#スコアを見る\n",
    "print(study.best_params)    "
   ]
  },
  {
   "cell_type": "code",
   "execution_count": null,
   "metadata": {},
   "outputs": [],
   "source": [
    "print(study.best_value)"
   ]
  },
  {
   "cell_type": "code",
   "execution_count": null,
   "metadata": {},
   "outputs": [],
   "source": [
    "# xgb_params = {\n",
    "#     'objective': 'reg:squarederror',  # 回帰問題\n",
    "#     'eval_metric': 'rmse',       # 学習用の指標\n",
    "# }"
   ]
  },
  {
   "cell_type": "code",
   "execution_count": null,
   "metadata": {},
   "outputs": [],
   "source": [
    "# xgb_params['max_depth'] = study.best_params['max_depth']\n",
    "# xgb_params['min_child_weight'] = study.best_params['min_child_weight']\n",
    "# xgb_params['gamma'] = study.best_params['gamma']\n",
    "# xgb_params['subsample'] = study.best_params['subsample']\n",
    "# xgb_params['colsample_bytree'] = study.best_params['colsample_bytree']\n",
    "# xgb_params['learning_rate'] = study.best_params['learning_rate']\n",
    "# # xgb_params['reg_alpha'] = study.best_params['reg_alpha']\n",
    "# # xgb_params['reg_lambda'] = study.best_params['reg_lambda']"
   ]
  },
  {
   "cell_type": "markdown",
   "metadata": {},
   "source": [
    "### 学習開始"
   ]
  },
  {
   "cell_type": "code",
   "execution_count": null,
   "metadata": {},
   "outputs": [],
   "source": [
    "from sklearn.metrics import average_precision_score,mean_absolute_error\n",
    "import shap\n",
    "\n",
    "def fit_lgb(X, y, cv, params: dict=None):\n",
    "    models = []\n",
    "    ma = []\n",
    "    r = []\n",
    "    # acc = []\n",
    "    oof = np.zeros(len(X))\n",
    "    # oof_classfication = np.zeros(len(X))\n",
    "\n",
    "    if params is None:\n",
    "        params = {}\n",
    "\n",
    "    for i, (idx_train, idx_val) in enumerate(kf_cv):\n",
    "        X_train, y_train = X.iloc[idx_train], y.iloc[idx_train] # 学習用の説明変数と目的変数の呼び出し\n",
    "        X_val, y_val = X.iloc[idx_val], y.iloc[idx_val]\n",
    "\n",
    "        reg = lgb.LGBMRegressor(**params)\n",
    "        model = reg.fit(X_train, y_train,\n",
    "                        eval_set=[(X_val, y_val)],  \n",
    "                        early_stopping_rounds=20,\n",
    "                        verbose = 2)\n",
    "\n",
    "        pred = model.predict(X_val)\n",
    "        oof[idx_val] = pred\n",
    "\n",
    "        models.append(model)\n",
    "\n",
    "        shap.initjs()\n",
    "\n",
    "        explainer = shap.TreeExplainer(model)\n",
    "        shap_values = explainer(X_train) \n",
    "\n",
    "        shap.plots.bar(shap_values=shap_values,max_display=10)\n",
    "        shap.plots.beeswarm(shap_values,max_display=10)\n",
    "        \n",
    "        print('r2_train:',reg.score(X_train, y_train))\n",
    "        print('r2_val:',reg.score(X_val, y_val))\n",
    "        print('MAE_val: ',mean_absolute_error(y_val, pred))\n",
    "        # print('Acc_val: ',metrics.accuracy_score(y_val, pred))\n",
    "        ma.append(metrics.mean_absolute_error(y_val, pred))\n",
    "        # acc.append(metrics.accuracy_score(y_val, pred))\n",
    "        r.append(reg.score(X_val, y_val))\n",
    "\n",
    "    print(f'平均のMAE：{np.mean(ma)}')\n",
    "    print(f'平均のR2：{np.mean(r)}')\n",
    "    # print(f'平均のAcc：{np.mean(acc)}')\n",
    "    return oof, models"
   ]
  },
  {
   "cell_type": "code",
   "execution_count": null,
   "metadata": {},
   "outputs": [],
   "source": [
    "oof,models = fit_lgb(X, y, kf_cv, params_best)"
   ]
  },
  {
   "cell_type": "markdown",
   "metadata": {},
   "source": [
    "### テストデータ"
   ]
  },
  {
   "cell_type": "code",
   "execution_count": null,
   "metadata": {},
   "outputs": [],
   "source": [
    "X_test = test.drop([pur], axis=1)\n",
    "y_test = test[pur]"
   ]
  },
  {
   "cell_type": "code",
   "execution_count": null,
   "metadata": {},
   "outputs": [],
   "source": [
    "# from sklearn.metrics import average_precision_score,mean_absolute_error\n",
    "from sklearn.metrics import mean_squared_error, mean_absolute_error\n",
    "\n",
    "def inference_lgb(models):\n",
    "    # testデータに対して推論を行う\n",
    "    X_test = test.drop([pur], axis=1)\n",
    "    y_test = test[pur]\n",
    "\n",
    "    pred_test = np.zeros((5,len(y_test))) # 320×6の2次元配列を作成\n",
    "    r = []\n",
    "    # acc = []\n",
    "\n",
    "    for i,model in enumerate(models):\n",
    "        pred_test[i] = model.predict(X_test)/5\n",
    "        r.append(model.score(X_test, y_test))\n",
    "\n",
    "        explainer = shap.TreeExplainer(model) #TreeExplainerでも多分変わらないが・・\n",
    "        shap_values = explainer(X_test) #これで全確認データの数字を一気に入手\n",
    "\n",
    "        shap.plots.bar(shap_values=shap_values,max_display=10)\n",
    "        shap.plots.beeswarm(shap_values,max_display=10)\n",
    "        \n",
    "        # acc.append(metrics.accuracy_score(y_test, pred_test))\n",
    "    pred_test = np.sum(pred_test, axis=0) \n",
    "\n",
    "    print('MAE_test: ',mean_absolute_error(y_test, pred_test))\n",
    "    print('r2_test_average:',np.mean(r))\n",
    "    # print('acc_average:',np.mean(acc))\n",
    "\n",
    "    return pred_test,X_test,y_test"
   ]
  },
  {
   "cell_type": "code",
   "execution_count": null,
   "metadata": {},
   "outputs": [],
   "source": [
    "pred_test,X_test,y_test = inference_lgb(models)"
   ]
  },
  {
   "cell_type": "markdown",
   "metadata": {},
   "source": [
    "### 全体の確認"
   ]
  },
  {
   "cell_type": "code",
   "execution_count": null,
   "metadata": {},
   "outputs": [],
   "source": [
    "train[\"predict\"] = oof\n",
    "train"
   ]
  },
  {
   "cell_type": "code",
   "execution_count": null,
   "metadata": {},
   "outputs": [],
   "source": [
    "test[\"predict\"] = pred_test\n",
    "test"
   ]
  },
  {
   "cell_type": "code",
   "execution_count": null,
   "metadata": {},
   "outputs": [],
   "source": [
    "df_pred = pd.concat([train,test])\n",
    "df_pred = df_pred.sort_index()\n",
    "df_pred"
   ]
  },
  {
   "cell_type": "code",
   "execution_count": null,
   "metadata": {},
   "outputs": [],
   "source": [
    "# データの予測値と正解値とのずれ\n",
    "df_pred[\"Error\"] = df_pred[\"predict\"] - df_pred[pur]\n",
    "df_pred.sort_values('Error')\n",
    "print(df_pred[\"Error\"].describe())\n"
   ]
  },
  {
   "cell_type": "code",
   "execution_count": null,
   "metadata": {},
   "outputs": [],
   "source": [
    "#過大評価\n",
    "df_error_plus = df_pred[df_pred[\"Error\"]>1]\n",
    "df_error_plus"
   ]
  },
  {
   "cell_type": "code",
   "execution_count": null,
   "metadata": {},
   "outputs": [],
   "source": [
    "#過小評価\n",
    "df_error_minus = df_pred[df_pred[\"Error\"]<-1]\n",
    "df_error_minus"
   ]
  },
  {
   "cell_type": "code",
   "execution_count": null,
   "metadata": {},
   "outputs": [],
   "source": [
    "#x軸が予測値，y軸が結果\n",
    "import matplotlib.pyplot as plt\n",
    "import numpy as np\n",
    "plt.scatter(df_error_minus[\"predict\"],df_error_minus[pur], alpha = 0.5)\n",
    "plt.scatter(df_error_plus[\"predict\"],df_error_plus[pur], alpha = 0.5)\n",
    "plt.plot(np.linspace(0, 40, 40), np.linspace(0, 40, 40), \"red\")\n",
    "plt.show()"
   ]
  },
  {
   "cell_type": "code",
   "execution_count": null,
   "metadata": {},
   "outputs": [],
   "source": [
    "#過大評価\n",
    "plt.hist(df_error_plus[\"堤体幅\"],alpha=0.5,color=\"blue\")\n",
    "#過小評価\n",
    "plt.hist(df_error_minus[\"堤体幅\"],alpha=0.5,color=\"orange\")"
   ]
  },
  {
   "cell_type": "markdown",
   "metadata": {},
   "source": [
    "## 予測結果の可視化"
   ]
  },
  {
   "cell_type": "code",
   "execution_count": null,
   "metadata": {},
   "outputs": [],
   "source": [
    "#x軸が予測値，y軸が結果\n",
    "import matplotlib.pyplot as plt\n",
    "import numpy as np\n",
    "sns.set(font='Yu Gothic',rc = {'figure.figsize':(10,10)})\n",
    "plt.scatter(train[\"predict\"],train[pur], alpha = 0.5,color = \"blue\",label = \"Train\",s=2)\n",
    "plt.scatter(test[\"predict\"],test[pur], alpha = 0.5,color = \"orange\",label = \"test\",s=2)\n",
    "plt.plot(np.linspace(0, 20, 20), np.linspace(0, 20, 20), \"red\")\n",
    "plt.xlabel(\"予測値\")\n",
    "plt.ylabel(\"真値\")\n",
    "plt.legend()\n",
    "plt.show()"
   ]
  },
  {
   "cell_type": "markdown",
   "metadata": {},
   "source": [
    "###  特徴量重要度"
   ]
  },
  {
   "cell_type": "code",
   "execution_count": null,
   "metadata": {},
   "outputs": [],
   "source": [
    "# 5つのモデルで重要度が出てくるので箱ひげ図にします、\n",
    "def plot_importance(model, X):\n",
    "    feature_importance_df = pd.DataFrame()\n",
    "    for i, model in enumerate(models):\n",
    "        _df = pd.DataFrame()\n",
    "        _df[\"feature_importance\"] = model.feature_importances_\n",
    "        _df[\"column\"] = X.columns\n",
    "        _df[\"fold\"] = i + 1\n",
    "        feature_importance_df = pd.concat([feature_importance_df, _df], \n",
    "                                          axis=0, ignore_index=True)\n",
    "\n",
    "    order = feature_importance_df.groupby(\"column\").sum()[[\"feature_importance\"]].sort_values(\"feature_importance\", ascending=False).index[:50]\n",
    "\n",
    "    fig, ax = plt.subplots(figsize=(8, max(6, len(order) * .25)))\n",
    "    sns.boxenplot(data=feature_importance_df, \n",
    "                  x=\"feature_importance\", \n",
    "                  y=\"column\", \n",
    "                  order=order, \n",
    "                  ax=ax, \n",
    "                  palette=None,  \n",
    "                  orient=\"h\")\n",
    "    ax.tick_params(axis=\"x\")\n",
    "    ax.set_title(\"Feature Importance\")\n",
    "    ax.grid()\n",
    "    fig.tight_layout()\n",
    "    return fig, ax\n",
    "\n",
    "fig, ax = plot_importance(models, X)"
   ]
  },
  {
   "cell_type": "markdown",
   "metadata": {},
   "source": [
    "### shap値個々の値についてしらべる"
   ]
  },
  {
   "cell_type": "code",
   "execution_count": null,
   "metadata": {},
   "outputs": [],
   "source": [
    "def shap_part(val):\n",
    "    X_predict = df_pred.drop([pur,\"predict\"], axis=1)\n",
    "    y_predict = df_pred[pur] \n",
    "\n",
    "    for model in models:\n",
    "        explainer = shap.TreeExplainer(model = model,data=X_predict,feature_perturbation=\"interventional\")\n",
    "        shap_values = explainer(X_predict)\n",
    "        shap.plots.waterfall(shap_values=shap_values[val],max_display=20)"
   ]
  },
  {
   "cell_type": "code",
   "execution_count": null,
   "metadata": {},
   "outputs": [],
   "source": [
    "#引数にはデータの何番目の値の詳細を見たいかをいれる．\n",
    "#モデルごとにwaterfall図が出る．モデルによって異なる．\n",
    "#f(x):モデルの予測値\n",
    "#E[f(x)]:モデル予測値全体の平均\n",
    "\n",
    "\n",
    "# shap_part(1)"
   ]
  },
  {
   "cell_type": "code",
   "execution_count": null,
   "metadata": {},
   "outputs": [],
   "source": [
    "# 5つのモデルで重要度が出てくるので箱ひげ図にします、\n",
    "def plot_importance(model, val):\n",
    "    X_predict = df_pred.drop([pur,\"predict\"], axis=1)\n",
    "    y_predict = df_pred[pur] \n",
    "\n",
    "    feature_importance_df = pd.DataFrame()\n",
    "    for i, model in enumerate(models):\n",
    "        explainer = shap.TreeExplainer(model = model,data=X_predict,feature_perturbation=\"interventional\")\n",
    "        shap_values = explainer(X_predict)\n",
    "        _df = pd.DataFrame()\n",
    "        _df[\"shap_values\"] = shap_values[val]\n",
    "        _df[\"column\"] = X_predict.columns\n",
    "        _df[\"fold\"] = i + 1\n",
    "        feature_importance_df = pd.concat([feature_importance_df, _df], \n",
    "                                          axis=0, ignore_index=True)\n",
    "\n",
    "    order = feature_importance_df.groupby(\"column\").sum()[[\"shap_values\"]].sort_values(\"shap_values\", ascending=False).index[:50]\n",
    "\n",
    "    fig, ax = plt.subplots(figsize=(8, max(6, len(order) * .25)))\n",
    "    sns.boxenplot(data=feature_importance_df, \n",
    "                  x=\"shap_values\", \n",
    "                  y=\"column\", \n",
    "                  order=order, \n",
    "                  ax=ax, \n",
    "                  palette=None,  \n",
    "                  orient=\"h\")\n",
    "    ax.tick_params(axis=\"x\")\n",
    "    ax.set_title(\"shap_values\")\n",
    "    ax.grid()\n",
    "    fig.tight_layout()\n",
    "    return fig, ax\n",
    "\n",
    "fig, ax = plot_importance(models, 1)"
   ]
  }
 ],
 "metadata": {
  "kernelspec": {
   "display_name": "Python 3.9.7 ('base')",
   "language": "python",
   "name": "python3"
  },
  "language_info": {
   "codemirror_mode": {
    "name": "ipython",
    "version": 3
   },
   "file_extension": ".py",
   "mimetype": "text/x-python",
   "name": "python",
   "nbconvert_exporter": "python",
   "pygments_lexer": "ipython3",
   "version": "3.9.7"
  },
  "orig_nbformat": 4,
  "vscode": {
   "interpreter": {
    "hash": "960e4bbdb074eafabe5fc342415b9c24d7ab169a3e269a733677831f0c83ad74"
   }
  }
 },
 "nbformat": 4,
 "nbformat_minor": 2
}
