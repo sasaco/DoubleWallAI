{
 "cells": [
  {
   "cell_type": "markdown",
   "metadata": {},
   "source": [
    "# 二重矢板の予測"
   ]
  },
  {
   "cell_type": "markdown",
   "metadata": {},
   "source": [
    "## 1.CSVファイルの読み込み"
   ]
  },
  {
   "cell_type": "code",
   "execution_count": null,
   "metadata": {},
   "outputs": [],
   "source": [
    "file = data_folder + \"220812_前橋_データベース_水道データ修正.csv\"\n",
    "# file = data_folder + \"20220813_wakayama.csv\"\n",
    "\n",
    "\n",
    "df = pd.read_csv(file,  encoding=\"cp932\")\n",
    "df = df.drop([\"tatemon_id\",\"X\",\"Y\",\"KEY_CODE\",\"最寄り駅\",\"最寄り駅の緯度\",\"最寄り駅の経度\",\"評価_状態\"],axis=1)"
   ]
  }
 ],
 "metadata": {
  "kernelspec": {
   "display_name": "Python 3.9.7 ('base')",
   "language": "python",
   "name": "python3"
  },
  "language_info": {
   "name": "python",
   "version": "3.9.7"
  },
  "orig_nbformat": 4,
  "vscode": {
   "interpreter": {
    "hash": "960e4bbdb074eafabe5fc342415b9c24d7ab169a3e269a733677831f0c83ad74"
   }
  }
 },
 "nbformat": 4,
 "nbformat_minor": 2
}
