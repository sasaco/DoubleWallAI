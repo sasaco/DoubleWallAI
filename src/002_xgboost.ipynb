{
 "cells": [
  {
   "cell_type": "code",
   "execution_count": 1,
   "metadata": {},
   "outputs": [],
   "source": [
    "import pandas as pd\n",
    "import seaborn as sns\n",
    "\n",
    "df = sns.load_dataset('titanic')\n",
    "# df = df.dropna()\n",
    "X = df.loc[:, (df.columns!='survived') & (df.columns!='alive')]\n",
    "X = pd.get_dummies(X, drop_first=True)\n",
    "y = df['survived']"
   ]
  },
  {
   "cell_type": "code",
   "execution_count": 2,
   "metadata": {},
   "outputs": [],
   "source": [
    "from sklearn.model_selection import train_test_split\n",
    "X_train, X_test, y_train, y_test = train_test_split(X, y, test_size=0.3)"
   ]
  },
  {
   "cell_type": "code",
   "execution_count": 3,
   "metadata": {},
   "outputs": [
    {
     "name": "stderr",
     "output_type": "stream",
     "text": [
      "c:\\Users\\sasaco\\anaconda3\\lib\\site-packages\\xgboost\\compat.py:36: FutureWarning: pandas.Int64Index is deprecated and will be removed from pandas in a future version. Use pandas.Index with the appropriate dtype instead.\n",
      "  from pandas import MultiIndex, Int64Index\n"
     ]
    }
   ],
   "source": [
    "from xgboost import XGBClassifier\n",
    "model = XGBClassifier(early_stopping_rounds=10)"
   ]
  },
  {
   "cell_type": "code",
   "execution_count": 4,
   "metadata": {},
   "outputs": [
    {
     "name": "stdout",
     "output_type": "stream",
     "text": [
      "[22:18:53] WARNING: C:\\Windows\\Temp\\abs_557yfx631l\\croots\\recipe\\xgboost-split_1659548953302\\work\\src\\learner.cc:576: \n",
      "Parameters: { \"early_stopping_rounds\" } might not be used.\n",
      "\n",
      "  This could be a false alarm, with some parameters getting used by language bindings but\n",
      "  then being mistakenly passed down to XGBoost core, or some parameter actually being used\n",
      "  but getting flagged wrongly here. Please open an issue if you find any such cases.\n",
      "\n",
      "\n",
      "[22:18:53] WARNING: C:\\Windows\\Temp\\abs_557yfx631l\\croots\\recipe\\xgboost-split_1659548953302\\work\\src\\learner.cc:1115: Starting in XGBoost 1.3.0, the default evaluation metric used with the objective 'binary:logistic' was changed from 'error' to 'logloss'. Explicitly set eval_metric if you'd like to restore the old behavior.\n",
      "[0]\tvalidation_0-logloss:0.56796\n",
      "[1]\tvalidation_0-logloss:0.50668\n",
      "[2]\tvalidation_0-logloss:0.47171\n",
      "[3]\tvalidation_0-logloss:0.45235\n"
     ]
    },
    {
     "name": "stderr",
     "output_type": "stream",
     "text": [
      "c:\\Users\\sasaco\\anaconda3\\lib\\site-packages\\xgboost\\sklearn.py:1224: UserWarning: The use of label encoder in XGBClassifier is deprecated and will be removed in a future release. To remove this warning, do the following: 1) Pass option use_label_encoder=False when constructing XGBClassifier object; and 2) Encode your labels (y) as integers starting with 0, i.e. 0, 1, 2, ..., [num_class - 1].\n",
      "  warnings.warn(label_encoder_deprecation_msg, UserWarning)\n",
      "c:\\Users\\sasaco\\anaconda3\\lib\\site-packages\\xgboost\\data.py:250: FutureWarning: pandas.Int64Index is deprecated and will be removed from pandas in a future version. Use pandas.Index with the appropriate dtype instead.\n",
      "  elif isinstance(data.columns, (pd.Int64Index, pd.RangeIndex)):\n"
     ]
    },
    {
     "name": "stdout",
     "output_type": "stream",
     "text": [
      "[4]\tvalidation_0-logloss:0.44228\n",
      "[5]\tvalidation_0-logloss:0.43555\n",
      "[6]\tvalidation_0-logloss:0.43029\n",
      "[7]\tvalidation_0-logloss:0.42767\n",
      "[8]\tvalidation_0-logloss:0.43030\n",
      "[9]\tvalidation_0-logloss:0.43527\n",
      "[10]\tvalidation_0-logloss:0.44048\n",
      "[11]\tvalidation_0-logloss:0.43952\n",
      "[12]\tvalidation_0-logloss:0.44385\n",
      "[13]\tvalidation_0-logloss:0.44327\n",
      "[14]\tvalidation_0-logloss:0.44647\n",
      "[15]\tvalidation_0-logloss:0.44569\n",
      "[16]\tvalidation_0-logloss:0.44587\n",
      "[17]\tvalidation_0-logloss:0.44599\n",
      "[18]\tvalidation_0-logloss:0.45203\n",
      "[19]\tvalidation_0-logloss:0.45117\n",
      "[20]\tvalidation_0-logloss:0.45276\n",
      "[21]\tvalidation_0-logloss:0.45797\n",
      "[22]\tvalidation_0-logloss:0.46001\n",
      "[23]\tvalidation_0-logloss:0.46270\n",
      "[24]\tvalidation_0-logloss:0.46744\n",
      "[25]\tvalidation_0-logloss:0.46731\n",
      "[26]\tvalidation_0-logloss:0.46981\n",
      "[27]\tvalidation_0-logloss:0.46777\n",
      "[28]\tvalidation_0-logloss:0.46903\n",
      "[29]\tvalidation_0-logloss:0.46933\n",
      "[30]\tvalidation_0-logloss:0.46956\n",
      "[31]\tvalidation_0-logloss:0.47064\n",
      "[32]\tvalidation_0-logloss:0.47035\n",
      "[33]\tvalidation_0-logloss:0.47552\n",
      "[34]\tvalidation_0-logloss:0.47459\n",
      "[35]\tvalidation_0-logloss:0.47871\n",
      "[36]\tvalidation_0-logloss:0.47803\n",
      "[37]\tvalidation_0-logloss:0.48143\n",
      "[38]\tvalidation_0-logloss:0.48051\n",
      "[39]\tvalidation_0-logloss:0.48024\n",
      "[40]\tvalidation_0-logloss:0.48104\n",
      "[41]\tvalidation_0-logloss:0.48338\n",
      "[42]\tvalidation_0-logloss:0.48346\n",
      "[43]\tvalidation_0-logloss:0.48665\n",
      "[44]\tvalidation_0-logloss:0.48954\n",
      "[45]\tvalidation_0-logloss:0.49217\n",
      "[46]\tvalidation_0-logloss:0.49342\n",
      "[47]\tvalidation_0-logloss:0.49348\n",
      "[48]\tvalidation_0-logloss:0.49289\n",
      "[49]\tvalidation_0-logloss:0.49233\n",
      "[50]\tvalidation_0-logloss:0.49450\n",
      "[51]\tvalidation_0-logloss:0.49689\n",
      "[52]\tvalidation_0-logloss:0.49522\n",
      "[53]\tvalidation_0-logloss:0.49365\n",
      "[54]\tvalidation_0-logloss:0.49470\n",
      "[55]\tvalidation_0-logloss:0.49614\n",
      "[56]\tvalidation_0-logloss:0.49751\n",
      "[57]\tvalidation_0-logloss:0.50264\n",
      "[58]\tvalidation_0-logloss:0.50230\n",
      "[59]\tvalidation_0-logloss:0.50297\n",
      "[60]\tvalidation_0-logloss:0.50568\n",
      "[61]\tvalidation_0-logloss:0.50777\n",
      "[62]\tvalidation_0-logloss:0.50983\n",
      "[63]\tvalidation_0-logloss:0.51038\n",
      "[64]\tvalidation_0-logloss:0.51236\n",
      "[65]\tvalidation_0-logloss:0.51372\n",
      "[66]\tvalidation_0-logloss:0.51441\n",
      "[67]\tvalidation_0-logloss:0.51640\n",
      "[68]\tvalidation_0-logloss:0.51638\n",
      "[69]\tvalidation_0-logloss:0.51763\n",
      "[70]\tvalidation_0-logloss:0.51962\n",
      "[71]\tvalidation_0-logloss:0.52161\n",
      "[72]\tvalidation_0-logloss:0.52283\n",
      "[73]\tvalidation_0-logloss:0.52511\n",
      "[74]\tvalidation_0-logloss:0.52537\n",
      "[75]\tvalidation_0-logloss:0.52472\n",
      "[76]\tvalidation_0-logloss:0.52427\n",
      "[77]\tvalidation_0-logloss:0.52776\n",
      "[78]\tvalidation_0-logloss:0.52854\n",
      "[79]\tvalidation_0-logloss:0.53129\n",
      "[80]\tvalidation_0-logloss:0.53596\n",
      "[81]\tvalidation_0-logloss:0.53752\n",
      "[82]\tvalidation_0-logloss:0.53867\n",
      "[83]\tvalidation_0-logloss:0.53900\n",
      "[84]\tvalidation_0-logloss:0.53952\n",
      "[85]\tvalidation_0-logloss:0.54141\n",
      "[86]\tvalidation_0-logloss:0.54249\n",
      "[87]\tvalidation_0-logloss:0.54268\n",
      "[88]\tvalidation_0-logloss:0.54268\n",
      "[89]\tvalidation_0-logloss:0.54399\n",
      "[90]\tvalidation_0-logloss:0.54584\n",
      "[91]\tvalidation_0-logloss:0.54656\n",
      "[92]\tvalidation_0-logloss:0.54853\n",
      "[93]\tvalidation_0-logloss:0.54759\n",
      "[94]\tvalidation_0-logloss:0.54969\n",
      "[95]\tvalidation_0-logloss:0.55007\n",
      "[96]\tvalidation_0-logloss:0.55176\n",
      "[97]\tvalidation_0-logloss:0.55180\n",
      "[98]\tvalidation_0-logloss:0.55211\n",
      "[99]\tvalidation_0-logloss:0.55448\n"
     ]
    },
    {
     "data": {
      "text/plain": [
       "XGBClassifier(base_score=0.5, booster='gbtree', colsample_bylevel=1,\n",
       "              colsample_bynode=1, colsample_bytree=1, early_stopping_rounds=10,\n",
       "              enable_categorical=False, gamma=0, gpu_id=-1,\n",
       "              importance_type=None, interaction_constraints='',\n",
       "              learning_rate=0.300000012, max_delta_step=0, max_depth=6,\n",
       "              min_child_weight=1, missing=nan, monotone_constraints='()',\n",
       "              n_estimators=100, n_jobs=4, num_parallel_tree=1, predictor='auto',\n",
       "              random_state=0, reg_alpha=0, reg_lambda=1, scale_pos_weight=1,\n",
       "              subsample=1, tree_method='exact', validate_parameters=1,\n",
       "              verbosity=None)"
      ]
     },
     "execution_count": 4,
     "metadata": {},
     "output_type": "execute_result"
    }
   ],
   "source": [
    "eval_set = [(X_test, y_test)]\n",
    "model.fit(X_train, y_train, eval_set=eval_set, verbose=True)"
   ]
  },
  {
   "cell_type": "code",
   "execution_count": 5,
   "metadata": {},
   "outputs": [
    {
     "data": {
      "text/plain": [
       "0.5544826703561155"
      ]
     },
     "execution_count": 5,
     "metadata": {},
     "output_type": "execute_result"
    }
   ],
   "source": [
    "from sklearn import metrics\n",
    "y_pred = model.predict_proba(X_test)\n",
    "metrics.log_loss(y_test, y_pred)"
   ]
  },
  {
   "cell_type": "code",
   "execution_count": 6,
   "metadata": {},
   "outputs": [
    {
     "data": {
      "text/plain": [
       "<BarContainer object of 22 artists>"
      ]
     },
     "execution_count": 6,
     "metadata": {},
     "output_type": "execute_result"
    },
    {
     "data": {
      "image/png": "[encoded data removed]",
      "text/plain": [
       "<Figure size 432x288 with 1 Axes>"
      ]
     },
     "metadata": {
      "needs_background": "light"
     },
     "output_type": "display_data"
    }
   ],
   "source": [
    "import matplotlib.pyplot as plt\n",
    "model.feature_importances_\n",
    "plt.barh(X.columns, model.feature_importances_)"
   ]
  }
 ],
 "metadata": {
  "kernelspec": {
   "display_name": "Python 3.9.7 ('base')",
   "language": "python",
   "name": "python3"
  },
  "language_info": {
   "codemirror_mode": {
    "name": "ipython",
    "version": 3
   },
   "file_extension": ".py",
   "mimetype": "text/x-python",
   "name": "python",
   "nbconvert_exporter": "python",
   "pygments_lexer": "ipython3",
   "version": "3.9.7"
  },
  "orig_nbformat": 4,
  "vscode": {
   "interpreter": {
    "hash": "960e4bbdb074eafabe5fc342415b9c24d7ab169a3e269a733677831f0c83ad74"
   }
  }
 },
 "nbformat": 4,
 "nbformat_minor": 2
}
