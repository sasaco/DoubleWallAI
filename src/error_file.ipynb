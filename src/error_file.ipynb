{
 "cells": [
  {
   "cell_type": "markdown",
   "metadata": {},
   "source": [
    "# 正常データとエラーデータの傾向分析"
   ]
  },
  {
   "cell_type": "code",
   "execution_count": null,
   "metadata": {},
   "outputs": [],
   "source": [
    "# ライブラリのインポート\n",
    "import numpy as np\n",
    "import pandas as pd\n",
    "import matplotlib.pyplot as plt\n",
    "import seaborn as sns\n",
    "import scipy.stats\n",
    "from sklearn import preprocessing\n",
    "import japanize_matplotlib\n",
    "# LightGBM\n",
    "import lightgbm as lgb\n",
    "import optuna\n",
    "from sklearn.preprocessing import StandardScaler, MinMaxScaler, LabelEncoder, OneHotEncoder"
   ]
  },
  {
   "cell_type": "code",
   "execution_count": null,
   "metadata": {},
   "outputs": [],
   "source": [
    "#データの読み込み\n",
    "data_folder = input(\"データファイルのあるフォルダまでのパス\")\n",
    "data_folder = data_folder.rstrip()\n",
    "data_folder = data_folder.replace(\"\\\\\", \"/\") + \"/\"\n",
    "    \n",
    "file_error = data_folder + \"input_errorfiles.csv\"\n",
    "    \n",
    "file_ok_1 = data_folder + \"train_data1.csv\"\n",
    "file_ok_2 = data_folder + \"train_labels.csv\"\n",
    "\n",
    "df_ok_1 = pd.read_csv(file_ok_1,encoding=\"shift-jis\")\n",
    "df_ok_2 = pd.read_csv(file_ok_2,encoding=\"shift-jis\")\n",
    "\n",
    "df_error = pd.read_csv(file_error,encoding=\"shift-jis\")\n",
    "df_ok = pd.concat([df_ok_1,df_ok_2],axis = 1)"
   ]
  },
  {
   "cell_type": "code",
   "execution_count": null,
   "metadata": {},
   "outputs": [],
   "source": [
    "# エラー時の地震時のデータを消去\n",
    "df_error = df_error.drop([\"No\",\"堤外側水位_地震時\",\"堤内側水位_地震時\",\" 震度\"],axis=1)"
   ]
  },
  {
   "cell_type": "code",
   "execution_count": null,
   "metadata": {},
   "outputs": [],
   "source": [
    "#　エラーデータに安全率のデータがないため，比較のために安全率データは消去する．\n",
    "df_ok = df_ok.drop([\"せん断変形破壊\",\"滑動、支持力\",\"根入れ部の安定\",\"遮水効果\",\"矢板の耐力照査\",\"タイロッドの耐力照査\",\"腹起しの耐力照査\"],axis=1)"
   ]
  },
  {
   "cell_type": "markdown",
   "metadata": {},
   "source": [
    "### ラベリングエンコーディング"
   ]
  },
  {
   "cell_type": "code",
   "execution_count": null,
   "metadata": {},
   "outputs": [],
   "source": [
    "def label_en(label):\n",
    "    label = label.astype(\"category\")\n",
    "    le_embarked = LabelEncoder()\n",
    "    le_embarked.fit(label)\n",
    "    return le_embarked.transform(label)\n",
    "#タイプ3:0，タイプ4:1，タイプ5:2\n",
    "df_ok['矢板型'] = label_en(df_ok['矢板型'])\n",
    "#SY295:0，SY390:1\n",
    "df_ok['矢板材料'] = label_en(df_ok['矢板材料'])\n",
    "\n",
    "df_ok['中詰め区分'] = label_en(df_ok[\"中詰め区分\"])\n",
    "df_ok['腹起し番号'] = label_en(df_ok[\"腹起し番号\"])\n",
    "df_ok['引張材材料番号'] = label_en(df_ok[\"引張材材料番号\"])\t\n",
    "df_ok['腹起し材質'] = label_en(df_ok[\"腹起し材質\"])\t\n",
    "\n",
    "#タイプ3:0，タイプ4:1，タイプ5:2\n",
    "df_error['矢板型'] = label_en(df_error['矢板型'])\n",
    "#SY295:0，SY390:1\n",
    "df_error['矢板材料'] = label_en(df_error['矢板材料'])\n",
    "df_error['中詰め区分'] = label_en(df_error[\"中詰め区分\"])\n",
    "df_error['腹起し番号'] = label_en(df_error[\"腹起し番号\"])\n",
    "df_error['引張材材料番号'] = label_en(df_error[\"引張材材料番号\"])\t\n",
    "df_error['腹起し材質'] = label_en(df_error[\"腹起し材質\"])\t"
   ]
  },
  {
   "cell_type": "code",
   "execution_count": null,
   "metadata": {},
   "outputs": [],
   "source": [
    "df_ok[\"根入れ深さ\"] = df_ok[\"矢板の全長\"] - df_ok[\"左右壁体高さ\"]\n",
    "df_error[\"根入れ深さ\"] = df_error[\"矢板の全長\"] - df_error[\"左右壁体高さ\"]"
   ]
  },
  {
   "cell_type": "code",
   "execution_count": null,
   "metadata": {},
   "outputs": [],
   "source": [
    "# 目的変数の設定\n",
    "pur = \"根入れ深さ\""
   ]
  },
  {
   "cell_type": "markdown",
   "metadata": {},
   "source": [
    "### 相関の確認"
   ]
  },
  {
   "cell_type": "code",
   "execution_count": null,
   "metadata": {},
   "outputs": [],
   "source": [
    "# 各特徴量間の相関\n",
    "\n",
    "# sns.set(rc = {'figure.figsize':(15,8)})\n",
    "sns.set(font='Yu Gothic')\n",
    "plt.figure(figsize=(20,20),dpi=200)\n",
    "p=sns.heatmap(df_ok.corr(),square=True, vmax=1, vmin=-1, center=0,cmap='coolwarm')"
   ]
  },
  {
   "cell_type": "code",
   "execution_count": null,
   "metadata": {},
   "outputs": [],
   "source": [
    "# 目的変数都の相関\n",
    "sns.set(font='Yu Gothic',rc = {'figure.figsize':(20,20)})\n",
    "sns.heatmap(df_ok.corr()[[pur]].sort_values(by=pur, ascending=False)[1:],cmap='coolwarm', annot=True)"
   ]
  },
  {
   "cell_type": "markdown",
   "metadata": {},
   "source": [
    "### データの分布の確認"
   ]
  },
  {
   "cell_type": "code",
   "execution_count": null,
   "metadata": {},
   "outputs": [],
   "source": [
    "#各特徴量の分布\n",
    "def plot_histgram(x1,x2, title=None,nrows=2,ncols=2):\n",
    "    sns.set(font='Yu Gothic',rc = {'figure.figsize':(30,30)})\n",
    "\n",
    "    cols = x1.columns\n",
    "    plt.figure(figsize=(4,6),dpi=200)\n",
    "    fig, axes = plt.subplots(nrows=nrows, ncols=ncols)\n",
    "    \n",
    "    for ax,c in zip(axes.ravel(),cols):\n",
    "        sns.histplot(x1[c],alpha = 0.5, bins=20,ax = ax,label=\"ok\",color=\"blue\")\n",
    "        sns.histplot(x2[c],alpha = 0.5,bins =20,ax=ax, label=\"error\",color=\"red\")\n",
    "    \n",
    "    fig.suptitle(title)\n",
    "    fig.show()\n",
    "\n",
    "plot_histgram(df_ok[df_ok.columns],df_error[df_error.columns], title=\"特徴量の分布\", nrows=7, ncols=5)"
   ]
  },
  {
   "cell_type": "code",
   "execution_count": null,
   "metadata": {},
   "outputs": [],
   "source": [
    "#目的変数と各特徴量の関係\n",
    "def plt_scatters(X1, y1,X2 ,y2,title = None,nrows=2,ncols=2):\n",
    "    # sns.set(rc = {'figure.figsize':(15,8)})\n",
    "    sns.set(font='Yu Gothic',rc = {'figure.figsize':(30,30)})\n",
    "\n",
    "    cols = X1.columns\n",
    "    plt.figure(figsize=(4,4),dpi=1000)\n",
    "    fig, axes = plt.subplots(nrows=nrows, ncols=ncols)\n",
    "\n",
    "    for ax,c in zip(axes.ravel(),cols):\n",
    "        sns.scatterplot(X2[c], y2 , ci=None, alpha = 0.5, ax = ax,label=\"error\",color=\"red\",s=10)\n",
    "        sns.scatterplot(X1[c], y1 , ci=None, alpha = 0.5, ax = ax,label=\"ok\",color=\"blue\",s=10)\n",
    "        ax.set(ylabel = y1.name)\n",
    "    \n",
    "\n",
    "    fig.suptitle(title)\n",
    "    fig.show()\n",
    "\n",
    "xx_ok = df_ok.drop([pur], axis = 1)\n",
    "xx_error = df_error.drop([pur], axis = 1)\n",
    "plt_scatters(\n",
    "    df_ok[xx_ok.columns],\n",
    "    df_ok[pur],\n",
    "    df_error[xx_error.columns],\n",
    "    df_error[pur],\n",
    "    title = \"目的変数と各特徴量との関係\",\n",
    "    nrows = 7,\n",
    "    ncols = 5\n",
    ")"
   ]
  },
  {
   "cell_type": "markdown",
   "metadata": {},
   "source": [
    "## 地盤条件の組み合わせ"
   ]
  },
  {
   "cell_type": "code",
   "execution_count": null,
   "metadata": {},
   "outputs": [],
   "source": [
    "pur = \"在来地盤摩擦角\""
   ]
  },
  {
   "cell_type": "code",
   "execution_count": null,
   "metadata": {},
   "outputs": [],
   "source": [
    "df_error[\"摩擦角_内部摩擦角\"] = (df_error[\"在来地盤摩擦角\"]+1) * (df_error[\"在来地盤粘着力\"]+1)\n",
    "df_ok[\"摩擦角_内部摩擦角\"] = (df_ok[\"在来地盤摩擦角\"]+1) * (df_ok[\"在来地盤粘着力\"]+1)\n",
    "\n",
    "# df_error[\"摩擦角_内部摩擦角\"] = (df_error[\"在来地盤摩擦角\"]+1) * (df_error[\"在来地盤粘着力\"]+1) * (df_error[\"根入れ深さ\"])\n",
    "# df_ok[\"摩擦角_内部摩擦角\"] = (df_ok[\"在来地盤摩擦角\"]+1) * (df_ok[\"在来地盤粘着力\"]+1)*(df_error[\"根入れ深さ\"])\n",
    "\n",
    "\n",
    "# df_error = df_error[[\"矢板の全長\",\"摩擦角_内部摩擦角\",\"在来地盤摩擦角\",\"在来地盤粘着力\"]]\n",
    "# df_ok = df_ok[[\"矢板の全長\",\"摩擦角_内部摩擦角\",\"在来地盤摩擦角\",\"在来地盤粘着力\"]]\n",
    "\n",
    "\n",
    "# df_error = df_error[[\"在来地盤摩擦角\",\"在来地盤粘着力\"]]\n",
    "# df_ok = df_ok[[\"在来地盤摩擦角\",\"在来地盤粘着力\"]]"
   ]
  },
  {
   "cell_type": "code",
   "execution_count": null,
   "metadata": {},
   "outputs": [],
   "source": [
    "pd.set_option('display.max_columns',50)\n",
    "df2 = df_error[df_error[\"摩擦角_内部摩擦角\"]<1500]"
   ]
  },
  {
   "cell_type": "code",
   "execution_count": null,
   "metadata": {},
   "outputs": [],
   "source": [
    "df2"
   ]
  },
  {
   "cell_type": "code",
   "execution_count": null,
   "metadata": {},
   "outputs": [],
   "source": [
    "df2[df2[\"在来地盤区分\"]==\" _Sandy\"]"
   ]
  },
  {
   "cell_type": "code",
   "execution_count": null,
   "metadata": {},
   "outputs": [],
   "source": [
    "#目的変数と各特徴量の関係\n",
    "def plt_scatters(X1, y1,X2 ,y2,title = None,nrows=2,ncols=2):\n",
    "    # sns.set(rc = {'figure.figsize':(15,8)})\n",
    "    sns.set(font='Yu Gothic',rc = {'figure.figsize':(30,30)})\n",
    "\n",
    "    cols = X1.columns\n",
    "    plt.figure(figsize=(4,4),dpi=1000)\n",
    "    fig, axes = plt.subplots(nrows=nrows, ncols=ncols)\n",
    "\n",
    "    for ax,c in zip(axes.ravel(),cols):\n",
    "        sns.scatterplot(X1[c], y1 , ci=None, alpha = 0.5, ax = ax,label=\"ok\",color=\"blue\",s=30)\n",
    "        sns.scatterplot(X2[c], y2 , ci=None, alpha = 0.5, ax = ax,label=\"error\",color=\"red\",s=30)\n",
    "        ax.set(ylabel = y1.name)\n",
    "        # sns.histplot(X1[c],alpha = 0.5,bins=400,ax = ax,label=\"ok\",color=\"blue\")\n",
    "        # sns.histplot(X2[c],alpha = 0.5,bins =400,ax=ax, label=\"error\",color=\"red\")\n",
    "        # ax.set(xlim=(0,5000),ylim=(0,150))\n",
    "\n",
    "    fig.suptitle(title)\n",
    "    fig.show()\n",
    "\n",
    "xx_ok = df_ok.drop([pur], axis = 1)\n",
    "xx_error = df_error.drop([pur], axis = 1)\n",
    "plt_scatters(\n",
    "    df_ok[xx_ok.columns],\n",
    "    df_ok[pur],\n",
    "    df_error[xx_error.columns],\n",
    "    df_error[pur],\n",
    "    title = \"目的変数と各特徴量との関係\",\n",
    "    nrows = 2,\n",
    "    ncols = 1\n",
    ")"
   ]
  }
 ],
 "metadata": {
  "kernelspec": {
   "display_name": "Python 3.9.7 ('base')",
   "language": "python",
   "name": "python3"
  },
  "language_info": {
   "codemirror_mode": {
    "name": "ipython",
    "version": 3
   },
   "file_extension": ".py",
   "mimetype": "text/x-python",
   "name": "python",
   "nbconvert_exporter": "python",
   "pygments_lexer": "ipython3",
   "version": "3.9.7"
  },
  "orig_nbformat": 4,
  "vscode": {
   "interpreter": {
    "hash": "960e4bbdb074eafabe5fc342415b9c24d7ab169a3e269a733677831f0c83ad74"
   }
  }
 },
 "nbformat": 4,
 "nbformat_minor": 2
}
